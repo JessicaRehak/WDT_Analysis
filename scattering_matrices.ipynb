{
 "cells": [
  {
   "cell_type": "markdown",
   "metadata": {},
   "source": [
    "# Serpent 2 Analysis Toolkit\n",
    "\n",
    "This toolkit was developed for the Weighted Delta-tracking implementation into Serpent 2. It provides the ability to upload multiple Serpent 2 output files and compare their data."
   ]
  },
  {
   "cell_type": "markdown",
   "metadata": {},
   "source": [
    "## Initialization"
   ]
  },
  {
   "cell_type": "markdown",
   "metadata": {},
   "source": [
    "Import the analysis core code, set `matplotlib` to plot inline and run nosetests (Warnings are exepcted due to pyne not being QA complient)"
   ]
  },
  {
   "cell_type": "code",
   "execution_count": 2,
   "metadata": {
    "collapsed": false
   },
   "outputs": [
    {
     "name": "stderr",
     "output_type": "stream",
     "text": [
      "/home/josh/lib/anaconda2/lib/python2.7/site-packages/pyne/serpent.py:11: QAWarning: pyne.serpent is not yet QA compliant.\n",
      "  warn(__name__ + \" is not yet QA compliant.\", QAWarning)\n"
     ]
    },
    {
     "name": "stdout",
     "output_type": "stream",
     "text": [
      "/home/josh/lib/anaconda2/lib/python2.7/site-packages/pyne/serpent.py:11: QAWarning: pyne.serpent is not yet QA compliant.\n",
      "  warn(__name__ + \" is not yet QA compliant.\", QAWarning)\n",
      "..................FFE....../home/josh/repos/WDT_Analysis/analysis/core.py:139: UserWarning: This does not appear to be a square matrix, skipping reshape\n",
      "  warnings.warn('This does not appear to be a square matrix, skipping reshape')\n",
      "......................\n",
      "======================================================================\n",
      "ERROR: fom_tests.TestClass.test_collapse_values\n",
      "----------------------------------------------------------------------\n",
      "Traceback (most recent call last):\n",
      "  File \"/home/josh/lib/anaconda2/lib/python2.7/site-packages/nose/case.py\", line 197, in runTest\n",
      "    self.test(*self.arg)\n",
      "  File \"/home/josh/repos/WDT_Analysis/tests/fom_tests.py\", line 154, in test_collapse_values\n",
      "    ok_(all([c in data[:,0] for c in self.cycles]))\n",
      "TypeError: 'NoneType' object has no attribute '__getitem__'\n",
      "\n",
      "======================================================================\n",
      "FAIL: Collapsed group FOM should return the correct shape\n",
      "----------------------------------------------------------------------\n",
      "Traceback (most recent call last):\n",
      "  File \"/home/josh/lib/anaconda2/lib/python2.7/site-packages/nose/case.py\", line 197, in runTest\n",
      "    self.test(*self.arg)\n",
      "  File \"/home/josh/repos/WDT_Analysis/tests/fom_tests.py\", line 149, in test_collapse_shapes\n",
      "    eq_(np.shape(data), (3,1))\n",
      "AssertionError: () != (3, 1)\n",
      "\n",
      "======================================================================\n",
      "FAIL: Collapsed group FOM should return a numpy array\n",
      "----------------------------------------------------------------------\n",
      "Traceback (most recent call last):\n",
      "  File \"/home/josh/lib/anaconda2/lib/python2.7/site-packages/nose/case.py\", line 197, in runTest\n",
      "    self.test(*self.arg)\n",
      "  File \"/home/josh/repos/WDT_Analysis/tests/fom_tests.py\", line 144, in test_collapse_type\n",
      "    ok_(isinstance(data, np.ndarray))\n",
      "AssertionError: None\n",
      "\n",
      "----------------------------------------------------------------------\n",
      "Ran 49 tests in 4.798s\n",
      "\n",
      "FAILED (errors=1, failures=2)\n"
     ]
    }
   ],
   "source": [
    "import analysis.core as wdt\n",
    "import analysis.helper as wdt_help\n",
    "import numpy as np\n",
    "import matplotlib.pyplot as plt\n",
    "%matplotlib inline\n",
    "!nosetests"
   ]
  },
  {
   "cell_type": "markdown",
   "metadata": {},
   "source": [
    "### Set Base Directory\n",
    "Set the abslute location of the `wdt_runs` repo.\n",
    "\n",
    "Ex: if the absolute path of the repo is `/home/josh/repos/wdt_runs/`:\n",
    "\n",
    "```base_dir = '/home/josh/repos/'```"
   ]
  },
  {
   "cell_type": "code",
   "execution_count": 2,
   "metadata": {
    "collapsed": true,
    "scrolled": true
   },
   "outputs": [],
   "source": [
    "base_dir = '/home/josh/repos/'"
   ]
  },
  {
   "cell_type": "markdown",
   "metadata": {},
   "source": [
    "# Scratch"
   ]
  },
  {
   "cell_type": "markdown",
   "metadata": {},
   "source": [
    "Upload all 10 runs for 0.1/0.1 ST/WDT thresholds:"
   ]
  },
  {
   "cell_type": "code",
   "execution_count": 3,
   "metadata": {
    "collapsed": false
   },
   "outputs": [],
   "source": [
    "st_th = 0.1\n",
    "wdt_th = 0.1\n",
    "data = wdt.ParamData(st_th, wdt_th, base_dir)"
   ]
  },
  {
   "cell_type": "code",
   "execution_count": 7,
   "metadata": {
    "collapsed": false
   },
   "outputs": [
    {
     "data": {
      "text/plain": [
       "array([[  9.46000000e-04,   3.96000000e-04,   3.84000000e-04,\n",
       "          3.71000000e-04,   3.56000000e-04,   3.77000000e-04,\n",
       "          3.91000000e-04,   3.22000000e-04,   3.05000000e-04,\n",
       "          2.51700000e-04,   6.40000000e-04],\n",
       "       [  3.27206357e-04,   7.92716847e-05,   8.90168523e-05,\n",
       "          8.97162193e-05,   1.03266645e-04,   9.10000000e-05,\n",
       "          1.16657619e-04,   1.04766407e-04,   1.04618354e-04,\n",
       "          1.09599316e-04,   3.00931886e-04]])"
      ]
     },
     "execution_count": 7,
     "metadata": {},
     "output_type": "execute_result"
    },
    {
     "data": {
      "image/png": "[encoded data removed]",
      "text/plain": [
       "<matplotlib.figure.Figure at 0x7ffae4c63190>"
      ]
     },
     "metadata": {},
     "output_type": "display_data"
    }
   ],
   "source": [
    "data.value_stat('INF_FLX', err = True, plot = True)"
   ]
  },
  {
   "cell_type": "markdown",
   "metadata": {},
   "source": [
    "Calculate individual FOMs:"
   ]
  },
  {
   "cell_type": "code",
   "execution_count": 30,
   "metadata": {
    "collapsed": false
   },
   "outputs": [
    {
     "data": {
      "image/png": "[encoded data removed]",
      "text/plain": [
       "<matplotlib.figure.Figure at 0x7fbbde9aae90>"
      ]
     },
     "metadata": {},
     "output_type": "display_data"
    }
   ],
   "source": [
    "i = 0\n",
    "inf_flx_err = data.dataSets[i].get_data('INF_FLX', err = True)\n",
    "cpu = data.dataSets[i].get_cpu()\n",
    "plt.subplot(211)\n",
    "plt.plot(inf_flx_err[0],'.')\n",
    "plt.xlim(0,11)\n",
    "flx_fom = np.power(np.power(inf_flx_err,2)*cpu,-1)\n",
    "plt.subplot(212)\n",
    "plt.xlim(0,12)\n",
    "plt.plot(range(1,12),flx_fom[0], '.')\n",
    "plt.show()"
   ]
  },
  {
   "cell_type": "code",
   "execution_count": 8,
   "metadata": {
    "collapsed": false
   },
   "outputs": [
    {
     "data": {
      "text/plain": [
       "([0.41180499999999998,\n",
       "  0.41180600000000001,\n",
       "  0.411804,\n",
       "  0.411804,\n",
       "  0.41180499999999998,\n",
       "  0.411804,\n",
       "  0.411804,\n",
       "  0.411804,\n",
       "  0.41180499999999998,\n",
       "  0.41180499999999998],\n",
       " [6.5888799999999994e-07,\n",
       "  5.3534780000000005e-07,\n",
       "  9.4714919999999996e-07,\n",
       "  9.059688000000001e-07,\n",
       "  7.8242949999999999e-07,\n",
       "  7.8242759999999998e-07,\n",
       "  6.1770599999999999e-07,\n",
       "  5.3534520000000004e-07,\n",
       "  1.0295125000000001e-06,\n",
       "  4.9416599999999998e-07])"
      ]
     },
     "execution_count": 8,
     "metadata": {},
     "output_type": "execute_result"
    },
    {
     "data": {
      "image/png": "[encoded data removed]",
      "text/plain": [
       "<matplotlib.figure.Figure at 0x7f3fe051d490>"
      ]
     },
     "metadata": {},
     "output_type": "display_data"
    }
   ],
   "source": [
    "i = 7\n",
    "s_plot('Run', 'Infinite Total Cross-Section','Group '+ str(i + 1) + ' Infinite Total Cross-section by run')\n",
    "plt.xlim(0,11)\n",
    "#ax.yaxis.get_major_formatter().set_powerlimits((-5, 4))\n",
    "v = []\n",
    "e = []\n",
    "for d in data.dataSets:\n",
    "    value = d.get_data('INF_TOT', err = False)[0][i]\n",
    "    v.append(value)\n",
    "    e.append(value*d.get_data('INF_TOT', err = True)[0][i])\n",
    "plt.errorbar(range(1,11), v, fmt = '.', yerr = e, color=[0.0,107.0/255,164.0/255])\n",
    "v, e"
   ]
  },
  {
   "cell_type": "code",
   "execution_count": 66,
   "metadata": {
    "collapsed": false
   },
   "outputs": [
    {
     "data": {
      "image/png": "[encoded data removed]",
      "text/plain": [
       "<matplotlib.figure.Figure at 0x7fbbe0a27b10>"
      ]
     },
     "metadata": {},
     "output_type": "display_data"
    }
   ],
   "source": [
    "d = data.fom_stat('INF_TOT',plot=False)\n",
    "s_plot('Group', 'FOM', 'Infinite Total Cross-section by Group')\n",
    "plt.errorbar(range(1,12), d[0], fmt = '.', yerr = d[1], color=base_color)\n",
    "plt.xlim(0,12)\n",
    "ax = plt.gca()\n",
    "ax.set_yscale('log')"
   ]
  },
  {
   "cell_type": "code",
   "execution_count": 5,
   "metadata": {
    "collapsed": true
   },
   "outputs": [],
   "source": [
    "def s_plot(xlabel, ylabel, title):\n",
    "    base_color = ([0.0,107.0/255,164.0/255])\n",
    "    plt.figure(figsize=(6, 4.5))\n",
    "    ax = plt.subplot(111)  \n",
    "    ax.spines[\"top\"].set_visible(False)  \n",
    "    ax.spines[\"right\"].set_visible(False)\n",
    "    ax.get_xaxis().tick_bottom()  \n",
    "    ax.get_yaxis().tick_left()\n",
    "    plt.xticks(fontsize=14)\n",
    "    plt.yticks(fontsize=14)\n",
    "    plt.ylabel(ylabel,fontsize=16)\n",
    "    plt.xlabel(xlabel,fontsize=16)\n",
    "    plt.title(title, y=1.08)\n",
    "    plt.xlim(0,11)\n",
    "    ax.yaxis.get_major_formatter().set_powerlimits((-3, 4))"
   ]
  },
  {
   "cell_type": "markdown",
   "metadata": {},
   "source": [
    "## Analysis Tools"
   ]
  },
  {
   "cell_type": "markdown",
   "metadata": {},
   "source": [
    "The `Analyzer` class is the workhorse of this data analysis, it initializes:"
   ]
  },
  {
   "cell_type": "markdown",
   "metadata": {},
   "source": [
    "`wdt.Analyzer(st_vals, wdt_vals, base_dir, base_st=0.1, base_wdt=0.1)`"
   ]
  },
  {
   "cell_type": "code",
   "execution_count": null,
   "metadata": {
    "collapsed": true
   },
   "outputs": [],
   "source": [
    "st_vals = [0.1]\n",
    "wdt_vals = [0.1,0.2,0.3,0.4]\n",
    "my_analyzer = wdt.Analyzer(st_vals, wdt_vals, base_dir)"
   ]
  },
  {
   "cell_type": "markdown",
   "metadata": {},
   "source": [
    "### plot_mat\n",
    "\n",
    "For a matrix quantity (like scattering matrices), this function will calculate the FOM (mean or stdev) for each cell, and then graph a heatmap of where the values are highest. Parameters are passed in a list of tuples to compare graphs (maximum of 10 graphs)."
   ]
  },
  {
   "cell_type": "code",
   "execution_count": null,
   "metadata": {
    "collapsed": false,
    "scrolled": true
   },
   "outputs": [],
   "source": [
    "params = [(0.1, 0.1), (0.1, 0.2)] # Parameters to plot (list of tuples)\n",
    "my_analyzer.plot_mat('INF_SP0',params, mean = True) # Mean                               "
   ]
  },
  {
   "cell_type": "code",
   "execution_count": null,
   "metadata": {
    "collapsed": false
   },
   "outputs": [],
   "source": [
    "my_analyzer.plot_mat('INF_SP0', params, mean = False) #Stdev"
   ]
  },
  {
   "cell_type": "code",
   "execution_count": null,
   "metadata": {
    "collapsed": false
   },
   "outputs": [],
   "source": [
    "plt.figure(1)\n",
    "plt.subplot(221)\n",
    "my_analyzer.dataSets[0].mat_stat('INF_SP0', plot = True)\n",
    "plt.subplot(222)\n",
    "my_analyzer.dataSets[2].mat_stat('INF_SP0', plot = True)\n",
    "plt.tight_layout()\n",
    "plt.show()"
   ]
  },
  {
   "cell_type": "code",
   "execution_count": null,
   "metadata": {
    "collapsed": false
   },
   "outputs": [],
   "source": [
    "n = 4\n",
    "\n",
    "assert n < 10, 'must pass less than 10 parameter sets'\n",
    "\n",
    "rows = int((n-1)/3) + 1\n",
    "\n",
    "plot_num = rows*100 + 30 + 1\n",
    "\n",
    "for data in my_analyzer.dataSets[0:4]:\n",
    "    plt.subplot(plot_num)\n",
    "    data.mat_stat('INF_SP0', plot = True)\n",
    "    plot_num = plot_num + 1\n",
    "plt.tight_layout()\n"
   ]
  },
  {
   "cell_type": "code",
   "execution_count": null,
   "metadata": {
    "collapsed": false
   },
   "outputs": [],
   "source": [
    "param = 'INF_SCATT0'\n",
    "get_mean = False\n",
    "df=my_analyzer.data_frame(param,rel=False,mean=get_mean,style=False).sort_values(by='Ratio', ascending = not get_mean)[:5]\n",
    "df2 = pd.concat([df.ix[:,0:2], df.ix[:,-1:]], axis=1)\n",
    "print df2.to_latex(index=False).replace('\\n', ' ')"
   ]
  },
  {
   "cell_type": "code",
   "execution_count": null,
   "metadata": {
    "collapsed": false,
    "scrolled": false
   },
   "outputs": [],
   "source": [
    "len(range(32))"
   ]
  },
  {
   "cell_type": "code",
   "execution_count": null,
   "metadata": {
    "collapsed": false
   },
   "outputs": [],
   "source": [
    "my_analyzer.histogram(['INF_FLX','INF_TOT','INF_ABS','INF_CAPT','INF_FISS','INF_SCATT0','INF_SCATT1'],mean=True)"
   ]
  },
  {
   "cell_type": "code",
   "execution_count": null,
   "metadata": {
    "collapsed": false,
    "scrolled": false
   },
   "outputs": [],
   "source": [
    "my_analyzer.plot('INF_FLX',[0.1],[0.6])\n",
    "plt.title('Infinite flux FOM by neutron group for ST threshold 0.1, WDT threshold 0.6', fontsize=16)"
   ]
  },
  {
   "cell_type": "code",
   "execution_count": null,
   "metadata": {
    "collapsed": false
   },
   "outputs": [],
   "source": [
    "my_analyzer.plot('INF_FLX',[0.1],[0.6])\n",
    "plt.title('Infinite total cross-section FOM by neutron group for ST threshold 0.1, WDT threshold 0.6', fontsize=14)"
   ]
  },
  {
   "cell_type": "code",
   "execution_count": null,
   "metadata": {
    "collapsed": false
   },
   "outputs": [],
   "source": [
    "my_analyzer.plot('INF_ABS',[0.1],[0.6])\n",
    "plt.title('Infinite absorption cross-section FOM by neutron group for ST threshold 0.075, WDT threshold 0.3', fontsize=13)"
   ]
  },
  {
   "cell_type": "code",
   "execution_count": null,
   "metadata": {
    "collapsed": false
   },
   "outputs": [],
   "source": [
    "my_analyzer.plot('INF_CAPT',[0.1],[0.1])\n",
    "plt.title('Infinite capture cross-section FOM by neutron group for ST threshold 0.075, WDT threshold 0.3', fontsize=14)"
   ]
  },
  {
   "cell_type": "code",
   "execution_count": null,
   "metadata": {
    "collapsed": true
   },
   "outputs": [],
   "source": []
  }
 ],
 "metadata": {
  "anaconda-cloud": {},
  "kernelspec": {
   "display_name": "Python [default]",
   "language": "python",
   "name": "python2"
  },
  "language_info": {
   "codemirror_mode": {
    "name": "ipython",
    "version": 2
   },
   "file_extension": ".py",
   "mimetype": "text/x-python",
   "name": "python",
   "nbconvert_exporter": "python",
   "pygments_lexer": "ipython2",
   "version": "2.7.13"
  }
 },
 "nbformat": 4,
 "nbformat_minor": 0
}
