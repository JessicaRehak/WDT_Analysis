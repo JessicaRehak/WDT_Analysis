{
 "cells": [
  {
   "cell_type": "markdown",
   "metadata": {},
   "source": [
    "# Analysis"
   ]
  },
  {
   "cell_type": "code",
   "execution_count": 1,
   "metadata": {
    "collapsed": false
   },
   "outputs": [
    {
     "name": "stderr",
     "output_type": "stream",
     "text": [
      "/home/josh/lib/anaconda2/lib/python2.7/site-packages/pyne/serpent.py:11: QAWarning: pyne.serpent is not yet QA compliant.\n",
      "  warn(__name__ + \" is not yet QA compliant.\", QAWarning)\n"
     ]
    },
    {
     "name": "stdout",
     "output_type": "stream",
     "text": [
      "/home/josh/lib/anaconda2/lib/python2.7/site-packages/pyne/serpent.py:11: QAWarning: pyne.serpent is not yet QA compliant.\n",
      "  warn(__name__ + \" is not yet QA compliant.\", QAWarning)\n",
      "analysis_tests.TestClass.test_data_frames_mean ... ok\n",
      "analysis_tests.TestClass.test_data_frames_mean_rel ... ok\n",
      "analysis_tests.TestClass.test_data_frames_stdev ... ok\n",
      "analysis_tests.TestClass.test_data_frames_stdev_rel ... ok\n",
      "analysis_tests.TestClass.test_histogram ... ok\n",
      "analysis_tests.TestClass.test_histogram_stdev ... ok\n",
      "\n",
      "----------------------------------------------------------------------\n",
      "Ran 6 tests in 2.797s\n",
      "\n",
      "OK\n"
     ]
    }
   ],
   "source": [
    "import analysis.core as wdt\n",
    "%matplotlib inline\n",
    "!nosetests -v"
   ]
  },
  {
   "cell_type": "markdown",
   "metadata": {},
   "source": [
    "### Base Directory\n",
    "Set the abslute location of the `wdt_runs` repo.\n",
    "\n",
    "Ex: if the absolute path of the repo is `/home/josh/repos/wdt_runs/`:\n",
    "\n",
    "```base_dir = '/home/josh/repos/'```"
   ]
  },
  {
   "cell_type": "code",
   "execution_count": null,
   "metadata": {
    "collapsed": true,
    "scrolled": true
   },
   "outputs": [],
   "source": [
    "base_dir = '/home/josh/repos/'"
   ]
  },
  {
   "cell_type": "code",
   "execution_count": null,
   "metadata": {
    "collapsed": false,
    "scrolled": true
   },
   "outputs": [],
   "source": [
    "#st_vals = [0.1,0.075,0.05]\n",
    "st_vals = [0.1, 0.075]\n",
    "wdt_vals = [0.1]\n",
    "my_analyzer = wdt.Analyzer(st_vals, wdt_vals, base_dir)"
   ]
  },
  {
   "cell_type": "code",
   "execution_count": null,
   "metadata": {
    "collapsed": false
   },
   "outputs": [],
   "source": [
    "my_analyzer.histogram(['INF_FLX','INF_TOT','INF_ABS'],mean=False).as_matrix()"
   ]
  },
  {
   "cell_type": "code",
   "execution_count": null,
   "metadata": {
    "collapsed": false
   },
   "outputs": [],
   "source": [
    "my_analyzer.dataSets[0].fom_stat('INF_FLX')"
   ]
  },
  {
   "cell_type": "code",
   "execution_count": null,
   "metadata": {
    "collapsed": false
   },
   "outputs": [],
   "source": [
    "param = 'INF_SCATT0'\n",
    "get_mean = False\n",
    "df=my_analyzer.data_frame(param,rel=False,mean=get_mean,style=False).sort_values(by='Ratio', ascending = not get_mean)[:5]\n",
    "df2 = pd.concat([df.ix[:,0:2], df.ix[:,-1:]], axis=1)\n",
    "print df2.to_latex(index=False).replace('\\n', ' ')"
   ]
  },
  {
   "cell_type": "code",
   "execution_count": null,
   "metadata": {
    "collapsed": false,
    "scrolled": false
   },
   "outputs": [],
   "source": [
    "plt = my_analyzer.plot_cpu(0.1)"
   ]
  },
  {
   "cell_type": "code",
   "execution_count": null,
   "metadata": {
    "collapsed": false
   },
   "outputs": [],
   "source": [
    "my_analyzer.histogram(['INF_FLX','INF_TOT','INF_ABS','INF_CAPT','INF_FISS','INF_SCATT0','INF_SCATT1'],mean=True)"
   ]
  },
  {
   "cell_type": "code",
   "execution_count": null,
   "metadata": {
    "collapsed": false,
    "scrolled": false
   },
   "outputs": [],
   "source": [
    "my_analyzer.plot('INF_FLX',[0.1],[0.6])\n",
    "plt.title('Infinite flux FOM by neutron group for ST threshold 0.1, WDT threshold 0.6', fontsize=16)"
   ]
  },
  {
   "cell_type": "code",
   "execution_count": null,
   "metadata": {
    "collapsed": false
   },
   "outputs": [],
   "source": [
    "my_analyzer.plot('INF_FLX',[0.1],[0.6])\n",
    "plt.title('Infinite total cross-section FOM by neutron group for ST threshold 0.1, WDT threshold 0.6', fontsize=14)"
   ]
  },
  {
   "cell_type": "code",
   "execution_count": null,
   "metadata": {
    "collapsed": false
   },
   "outputs": [],
   "source": [
    "my_analyzer.plot('INF_ABS',[0.1],[0.6])\n",
    "plt.title('Infinite absorption cross-section FOM by neutron group for ST threshold 0.075, WDT threshold 0.3', fontsize=13)"
   ]
  },
  {
   "cell_type": "code",
   "execution_count": null,
   "metadata": {
    "collapsed": false
   },
   "outputs": [],
   "source": [
    "my_analyzer.plot('INF_CAPT',[0.1],[0.6])\n",
    "plt.title('Infinite capture cross-section FOM by neutron group for ST threshold 0.075, WDT threshold 0.3', fontsize=14)"
   ]
  },
  {
   "cell_type": "code",
   "execution_count": null,
   "metadata": {
    "collapsed": true
   },
   "outputs": [],
   "source": []
  }
 ],
 "metadata": {
  "anaconda-cloud": {},
  "kernelspec": {
   "display_name": "Python [default]",
   "language": "python",
   "name": "python2"
  },
  "language_info": {
   "codemirror_mode": {
    "name": "ipython",
    "version": 2
   },
   "file_extension": ".py",
   "mimetype": "text/x-python",
   "name": "python",
   "nbconvert_exporter": "python",
   "pygments_lexer": "ipython2",
   "version": "2.7.13"
  }
 },
 "nbformat": 4,
 "nbformat_minor": 0
}
