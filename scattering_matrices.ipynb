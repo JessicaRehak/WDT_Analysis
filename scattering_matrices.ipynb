{
 "cells": [
  {
   "cell_type": "markdown",
   "metadata": {},
   "source": [
    "# Serpent 2 Analysis Toolkit\n",
    "\n",
    "This toolkit was developed for the Weighted Delta-tracking implementation into Serpent 2. It provides the ability to upload multiple Serpent 2 output files and compare their data."
   ]
  },
  {
   "cell_type": "markdown",
   "metadata": {},
   "source": [
    "## Initialization"
   ]
  },
  {
   "cell_type": "markdown",
   "metadata": {},
   "source": [
    "Import the analysis core code, set `matplotlib` to plot inline and run nosetests (Warnings are exepcted due to pyne not being QA complient)"
   ]
  },
  {
   "cell_type": "code",
   "execution_count": 1,
   "metadata": {
    "collapsed": false
   },
   "outputs": [
    {
     "name": "stderr",
     "output_type": "stream",
     "text": [
      "/home/josh/lib/anaconda2/lib/python2.7/site-packages/pyne/serpent.py:11: QAWarning: pyne.serpent is not yet QA compliant.\n",
      "  warn(__name__ + \" is not yet QA compliant.\", QAWarning)\n"
     ]
    },
    {
     "name": "stdout",
     "output_type": "stream",
     "text": [
      "/home/josh/lib/anaconda2/lib/python2.7/site-packages/pyne/serpent.py:11: QAWarning: pyne.serpent is not yet QA compliant.\n",
      "  warn(__name__ + \" is not yet QA compliant.\", QAWarning)\n",
      "........................\n",
      "----------------------------------------------------------------------\n",
      "Ran 24 tests in 3.909s\n",
      "\n",
      "OK\n"
     ]
    }
   ],
   "source": [
    "import analysis.core as wdt\n",
    "import numpy as np\n",
    "import matplotlib.pyplot as plt\n",
    "%matplotlib inline\n",
    "!nosetests"
   ]
  },
  {
   "cell_type": "markdown",
   "metadata": {},
   "source": [
    "### Set Base Directory\n",
    "Set the abslute location of the `wdt_runs` repo.\n",
    "\n",
    "Ex: if the absolute path of the repo is `/home/josh/repos/wdt_runs/`:\n",
    "\n",
    "```base_dir = '/home/josh/repos/'```"
   ]
  },
  {
   "cell_type": "code",
   "execution_count": 2,
   "metadata": {
    "collapsed": true,
    "scrolled": true
   },
   "outputs": [],
   "source": [
    "base_dir = '/home/josh/repos/'"
   ]
  },
  {
   "cell_type": "markdown",
   "metadata": {},
   "source": [
    "# Scratch"
   ]
  },
  {
   "cell_type": "code",
   "execution_count": null,
   "metadata": {
    "collapsed": false
   },
   "outputs": [],
   "source": [
    "st_th = 0.1\n",
    "wdt_th = 0.1\n",
    "data = wdt.ParamData(st_th, wdt_th, base_dir)"
   ]
  },
  {
   "cell_type": "code",
   "execution_count": null,
   "metadata": {
    "collapsed": false
   },
   "outputs": [],
   "source": [
    "data.mat_stat('INF_SP0', plot = True)"
   ]
  },
  {
   "cell_type": "code",
   "execution_count": null,
   "metadata": {
    "collapsed": false
   },
   "outputs": [],
   "source": [
    "pltdata = data.mat_stat('INF_SP0')\n",
    "logdata = np.where(pltdata > 0, np.log(pltdata), np.zeros(np.shape(pltdata)))\n",
    "plt.matshow(logdata)\n"
   ]
  },
  {
   "cell_type": "code",
   "execution_count": null,
   "metadata": {
    "collapsed": false
   },
   "outputs": [],
   "source": [
    "data.cpu()"
   ]
  },
  {
   "cell_type": "code",
   "execution_count": null,
   "metadata": {
    "collapsed": true
   },
   "outputs": [],
   "source": []
  },
  {
   "cell_type": "code",
   "execution_count": null,
   "metadata": {
    "collapsed": false
   },
   "outputs": [],
   "source": [
    "np.log(data.mat_stat('INF_SP0',mean=True))"
   ]
  },
  {
   "cell_type": "code",
   "execution_count": null,
   "metadata": {
    "collapsed": false
   },
   "outputs": [],
   "source": [
    "np.bincount([0,1,2,3,0,6,0])"
   ]
  },
  {
   "cell_type": "code",
   "execution_count": null,
   "metadata": {
    "collapsed": false
   },
   "outputs": [],
   "source": [
    "1/(0.00039**2 * 49.3914)"
   ]
  },
  {
   "cell_type": "markdown",
   "metadata": {},
   "source": [
    "## Analysis Tools"
   ]
  },
  {
   "cell_type": "markdown",
   "metadata": {},
   "source": [
    "The `Analyzer` class is the workhorse of this data analysis, it initializes:"
   ]
  },
  {
   "cell_type": "markdown",
   "metadata": {},
   "source": [
    "`wdt.Analyzer(st_vals, wdt_vals, base_dir, base_st=0.1, base_wdt=0.1)`"
   ]
  },
  {
   "cell_type": "code",
   "execution_count": 3,
   "metadata": {
    "collapsed": true
   },
   "outputs": [],
   "source": [
    "st_vals = [0.1]\n",
    "wdt_vals = [0.1,0.2,0.3,0.4]\n",
    "my_analyzer = wdt.Analyzer(st_vals, wdt_vals, base_dir)"
   ]
  },
  {
   "cell_type": "markdown",
   "metadata": {},
   "source": [
    "### plot_mat\n",
    "\n",
    "For a matrix quantity (like scattering matrices), this function will calculate the FOM (mean or stdev) for each cell, and then graph a heatmap of where the values are highest. Parameters are passed in a list of tuples to compare graphs (maximum of 10 graphs)."
   ]
  },
  {
   "cell_type": "code",
   "execution_count": 6,
   "metadata": {
    "collapsed": false,
    "scrolled": true
   },
   "outputs": [
    {
     "data": {
      "image/png": "[encoded data removed]",
      "text/plain": [
       "<matplotlib.figure.Figure at 0x7f2912b14c90>"
      ]
     },
     "metadata": {},
     "output_type": "display_data"
    }
   ],
   "source": [
    "params = [(0.1, 0.1), (0.1, 0.2)] # Parameters to plot (list of tuples)\n",
    "my_analyzer.plot_mat('INF_SP0',params, mean = True) # Mean                               "
   ]
  },
  {
   "cell_type": "code",
   "execution_count": 5,
   "metadata": {
    "collapsed": false
   },
   "outputs": [
    {
     "data": {
      "image/png": "[encoded data removed]",
      "text/plain": [
       "<matplotlib.figure.Figure at 0x7f2912af4cd0>"
      ]
     },
     "metadata": {},
     "output_type": "display_data"
    }
   ],
   "source": [
    "my_analyzer.plot_mat('INF_SP0', params, mean = False) #Stdev"
   ]
  },
  {
   "cell_type": "code",
   "execution_count": null,
   "metadata": {
    "collapsed": false
   },
   "outputs": [],
   "source": [
    "plt.figure(1)\n",
    "plt.subplot(221)\n",
    "my_analyzer.dataSets[0].mat_stat('INF_SP0', plot = True)\n",
    "plt.subplot(222)\n",
    "my_analyzer.dataSets[2].mat_stat('INF_SP0', plot = True)\n",
    "plt.tight_layout()\n",
    "plt.show()"
   ]
  },
  {
   "cell_type": "code",
   "execution_count": null,
   "metadata": {
    "collapsed": false
   },
   "outputs": [],
   "source": [
    "n = 4\n",
    "\n",
    "assert n < 10, 'must pass less than 10 parameter sets'\n",
    "\n",
    "rows = int((n-1)/3) + 1\n",
    "\n",
    "plot_num = rows*100 + 30 + 1\n",
    "\n",
    "for data in my_analyzer.dataSets[0:4]:\n",
    "    plt.subplot(plot_num)\n",
    "    data.mat_stat('INF_SP0', plot = True)\n",
    "    plot_num = plot_num + 1\n",
    "plt.tight_layout()\n"
   ]
  },
  {
   "cell_type": "code",
   "execution_count": null,
   "metadata": {
    "collapsed": false
   },
   "outputs": [],
   "source": [
    "param = 'INF_SCATT0'\n",
    "get_mean = False\n",
    "df=my_analyzer.data_frame(param,rel=False,mean=get_mean,style=False).sort_values(by='Ratio', ascending = not get_mean)[:5]\n",
    "df2 = pd.concat([df.ix[:,0:2], df.ix[:,-1:]], axis=1)\n",
    "print df2.to_latex(index=False).replace('\\n', ' ')"
   ]
  },
  {
   "cell_type": "code",
   "execution_count": null,
   "metadata": {
    "collapsed": false,
    "scrolled": false
   },
   "outputs": [],
   "source": [
    "len(range(32))"
   ]
  },
  {
   "cell_type": "code",
   "execution_count": null,
   "metadata": {
    "collapsed": false
   },
   "outputs": [],
   "source": [
    "my_analyzer.histogram(['INF_FLX','INF_TOT','INF_ABS','INF_CAPT','INF_FISS','INF_SCATT0','INF_SCATT1'],mean=True)"
   ]
  },
  {
   "cell_type": "code",
   "execution_count": null,
   "metadata": {
    "collapsed": false,
    "scrolled": false
   },
   "outputs": [],
   "source": [
    "my_analyzer.plot('INF_FLX',[0.1],[0.6])\n",
    "plt.title('Infinite flux FOM by neutron group for ST threshold 0.1, WDT threshold 0.6', fontsize=16)"
   ]
  },
  {
   "cell_type": "code",
   "execution_count": null,
   "metadata": {
    "collapsed": false
   },
   "outputs": [],
   "source": [
    "my_analyzer.plot('INF_FLX',[0.1],[0.6])\n",
    "plt.title('Infinite total cross-section FOM by neutron group for ST threshold 0.1, WDT threshold 0.6', fontsize=14)"
   ]
  },
  {
   "cell_type": "code",
   "execution_count": null,
   "metadata": {
    "collapsed": false
   },
   "outputs": [],
   "source": [
    "my_analyzer.plot('INF_ABS',[0.1],[0.6])\n",
    "plt.title('Infinite absorption cross-section FOM by neutron group for ST threshold 0.075, WDT threshold 0.3', fontsize=13)"
   ]
  },
  {
   "cell_type": "code",
   "execution_count": null,
   "metadata": {
    "collapsed": false
   },
   "outputs": [],
   "source": [
    "my_analyzer.plot('INF_CAPT',[0.1],[0.1])\n",
    "plt.title('Infinite capture cross-section FOM by neutron group for ST threshold 0.075, WDT threshold 0.3', fontsize=14)"
   ]
  },
  {
   "cell_type": "code",
   "execution_count": null,
   "metadata": {
    "collapsed": true
   },
   "outputs": [],
   "source": []
  }
 ],
 "metadata": {
  "anaconda-cloud": {},
  "kernelspec": {
   "display_name": "Python [default]",
   "language": "python",
   "name": "python2"
  },
  "language_info": {
   "codemirror_mode": {
    "name": "ipython",
    "version": 2
   },
   "file_extension": ".py",
   "mimetype": "text/x-python",
   "name": "python",
   "nbconvert_exporter": "python",
   "pygments_lexer": "ipython2",
   "version": "2.7.13"
  }
 },
 "nbformat": 4,
 "nbformat_minor": 0
}
